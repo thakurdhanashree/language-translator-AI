{
 "cells": [
  {
   "cell_type": "code",
   "execution_count": 1,
   "id": "c84188cd",
   "metadata": {},
   "outputs": [],
   "source": [
    "from googletrans import Translator"
   ]
  },
  {
   "cell_type": "code",
   "execution_count": 2,
   "id": "5680ee2e",
   "metadata": {},
   "outputs": [
    {
     "name": "stdout",
     "output_type": "stream",
     "text": [
      "Enter the text to translate :hello, what are you doing ? how was your day ?\n",
      "Translated text: हैलो, आप क्या कर रहे हैं ?आपका दिन कैसा रहा ?\n"
     ]
    }
   ],
   "source": [
    "def translate_text(text, source_language, target_language):\n",
    "    translator = Translator()\n",
    "    translation = translator.translate(text, src=source_language, dest=target_language)\n",
    "    return translation.text\n",
    "\n",
    "\n",
    "text_to_translate = input(\"Enter the text to translate :\")\n",
    "source_lang = \"en\"\n",
    "target_lang = \"hi\"\n",
    "translated_text = translate_text(text_to_translate, source_lang, target_lang)\n",
    "print(\"Translated text:\", translated_text)\n",
    "\n"
   ]
  }
 ],
 "metadata": {
  "kernelspec": {
   "display_name": "Python 3 (ipykernel)",
   "language": "python",
   "name": "python3"
  },
  "language_info": {
   "codemirror_mode": {
    "name": "ipython",
    "version": 3
   },
   "file_extension": ".py",
   "mimetype": "text/x-python",
   "name": "python",
   "nbconvert_exporter": "python",
   "pygments_lexer": "ipython3",
   "version": "3.10.9"
  }
 },
 "nbformat": 4,
 "nbformat_minor": 5
}
